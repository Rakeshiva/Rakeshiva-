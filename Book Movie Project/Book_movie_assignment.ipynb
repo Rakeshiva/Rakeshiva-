{
 "cells": [
  {
   "cell_type": "code",
   "execution_count": 15,
   "id": "delayed-mining",
   "metadata": {},
   "outputs": [
    {
     "name": "stdout",
     "output_type": "stream",
     "text": [
      "=====================================Welcome to the CinemaWorld=============================================\n",
      "**Note:PLease Enter the required values in numbers other than '0' to Continue.\n",
      "============================================================================================================\n",
      "***Kindly give the inputs which decides the size of hall\n",
      "\n"
     ]
    },
    {
     "name": "stdin",
     "output_type": "stream",
     "text": [
      "Enter the number of rows: 3\n",
      "Enter the number of seats in each row: 2\n"
     ]
    },
    {
     "name": "stdout",
     "output_type": "stream",
     "text": [
      "\n",
      "======Select from the following options:=========\n",
      "1)Show the seats\n",
      "2)Buy a Ticket\n",
      "3)Statistics\n",
      "4)Show Booked Ticket User Info\n",
      "0)Exit\n",
      "=======================================================\n"
     ]
    },
    {
     "name": "stdin",
     "output_type": "stream",
     "text": [
      "Please choose the required options to continue 2\n"
     ]
    },
    {
     "name": "stdout",
     "output_type": "stream",
     "text": [
      "\n",
      "Cinema:\n",
      "   1  2\n",
      "1  S  S  \n",
      "2  S  S  \n",
      "3  S  S  \n",
      "=======You can select the Vacant seats S:Vacant Seats B:Reserved Seat==========\n"
     ]
    },
    {
     "name": "stdin",
     "output_type": "stream",
     "text": [
      "Enter the row number u want to choose:\n",
      " 1\n",
      "Enter the column number u want to choose:\n",
      " 2\n"
     ]
    },
    {
     "name": "stdout",
     "output_type": "stream",
     "text": [
      "price_of_ticket:  $10\n",
      "=====================================================================================================\n",
      "Press Y/y for YES to proceed your booking further or else the input other than Y will discard ur booking\n",
      "=======================================================================================================\n",
      "\n"
     ]
    },
    {
     "name": "stdin",
     "output_type": "stream",
     "text": [
      "press Y/y y\n",
      "Enter your Name: sgsh\n"
     ]
    },
    {
     "name": "stdout",
     "output_type": "stream",
     "text": [
      "=====**Note:Enter 'M/m' for 'Male'or 'F/f' for 'Female' or 'O/o' for 'Other'=========\n",
      "\n"
     ]
    },
    {
     "name": "stdin",
     "output_type": "stream",
     "text": [
      "Enter ur Gender: m\n",
      "Enter Age: 23\n",
      "Enter Phone number:  4656654564\n"
     ]
    },
    {
     "name": "stdout",
     "output_type": "stream",
     "text": [
      "\n",
      "Your ticket has been Booked Successfully\n",
      " ================================='THANK YOU'=======================================================\n",
      "\n",
      "\n",
      "======Select from the following options:=========\n",
      "1)Show the seats\n",
      "2)Buy a Ticket\n",
      "3)Statistics\n",
      "4)Show Booked Ticket User Info\n",
      "0)Exit\n",
      "=======================================================\n"
     ]
    },
    {
     "name": "stdin",
     "output_type": "stream",
     "text": [
      "Please choose the required options to continue 0\n"
     ]
    },
    {
     "name": "stdout",
     "output_type": "stream",
     "text": [
      "===============================\"Your have exited\" ===========================\n",
      "==========================Hope we will get back soon, Have a Great Day=========================\n"
     ]
    }
   ],
   "source": [
    "class Movie: \n",
    "    def __init__(self):\n",
    "        print('=====================================Welcome to the CinemaWorld=============================================')\n",
    "        print(\"**Note:PLease Enter the required values in numbers other than '0' to Continue.\")\n",
    "        print('============================================================================================================')\n",
    "        print('***Kindly give the inputs which decides the size of hall''\\n') \n",
    "        self.rows=input('Enter the number of rows:')\n",
    "        while (self.rows=='0') or self.rows.isdigit()==False:               #this is for making our user to enter valid details\n",
    "            print(\"=============Please Enter the Correct value as per Note:=================\")\n",
    "            self.rows=input('Enter the number of rows:')\n",
    "            continue\n",
    "        self.seats=input('Enter the number of seats in each row:')\n",
    "        while (self.seats=='0')  or self.seats.isdigit()==False:\n",
    "            print(\"=============Please Enter the Correct value as per Note:=================\")\n",
    "            self.seats=input('Enter the number of seats in each row:')\n",
    "            continue\n",
    "        self.rows=int(self.rows)                    #  {   define the \n",
    "        self.seats=int(self.seats)                  #   size of the hall}.\n",
    "        self.row=[]                                 #adding selected rows in this list when u book the ticket.\n",
    "        self.column=[]                              #adding selected columns in this list when u book the ticket.\n",
    "        self.Booked = 0                             #no.of tickets booked.\n",
    "        self.Current_income =0                      #cummulative of cuurent income.\n",
    "    def Main_menu(self):\n",
    "        while True:\n",
    "            print('\\n'\"======Select from the following options:=========\"'\\n'\n",
    "                \"1)Show the seats\"'\\n'\n",
    "                \"2)Buy a Ticket\"'\\n'                                    \n",
    "                \"3)Statistics\"'\\n'\n",
    "                \"4)Show Booked Ticket User Info\"'\\n'                              \n",
    "                \"0)Exit\"'\\n'\n",
    "                \"=======================================================\")\n",
    "            ur_choice=input('Please choose the required options to continue')\n",
    "            while ur_choice.isdigit()==False:\n",
    "                ur_choice=input('Please choose the required options to continue')\n",
    "                continue\n",
    "            ur_choice=int(ur_choice)\n",
    "            if ur_choice==0:\n",
    "                print('===============================\"Your have exited\" ===========================''\\n'\n",
    "                      \"==========================' Have a Great Day '=================================\")\n",
    "                break\n",
    "            if ur_choice==1:\n",
    "                x.Show_the_seats()\n",
    "            elif ur_choice==2:\n",
    "                x.Buy_a_ticket()\n",
    "            elif ur_choice==3:\n",
    "                x.statistics()\n",
    "            elif ur_choice==4:\n",
    "                x.User_info()\n",
    "            else:\n",
    "                print('Not a valid option try again by entering the correct value')\n",
    "    def Show_the_seats(self):\n",
    "        print('\\n''Cinema:')\n",
    "        print('   '+'  '.join(map(str,list(range(1,self.seats+1)))))\n",
    "        for i in range(0,self.rows):\n",
    "            print(i+1,end='  ')\n",
    "            for j in range(self.seats):\n",
    "                if ((i+1,j+1) in list(zip(self.row,self.column))):\n",
    "                    print('B',end='  ')\n",
    "                else:\n",
    "                    print('S',end='  ')\n",
    "            print('\\n',end='')\n",
    " \n",
    "    def Buy_a_ticket(self):\n",
    "        x.Show_the_seats()\n",
    "        print(\"=======You can select the Vacant seats\",'S:Vacant Seats','B:Reserved Seat==========')\n",
    "        row = input('Enter the row number u want to choose:''\\n')\n",
    "        while (row=='0') or row.isdigit()==False or int(row) not in range(1, self.rows+1):\n",
    "            print(\"=============Please Enter the Correct row value:=================\") \n",
    "            row = input('Enter the row number u want to choose:''\\n')\n",
    "            continue\n",
    "        column = input('Enter the column number u want to choose:\\n')\n",
    "        while (column=='0') or column.isdigit()==False or int(column) not in range(1, self.seats+1):\n",
    "            print(\"=============Please Enter the Correct column value:=================\") \n",
    "            column = input('Enter the column number u want to choose:''\\n')\n",
    "            continue \n",
    "        row=int(row)\n",
    "        column=int(column)\n",
    "        User_detail = {}                                                  #Here we can store the User details\n",
    "        self.Booked_details = [[None for j in range(column)] for i in range(row)]\n",
    "        if (row,column) not in list(zip(self.row,self.column)):               #Check wheter seat is vacant or not\n",
    "            if self.rows*self.seats <= 60:\n",
    "                price_of_ticket = 10\n",
    "            elif row <= int(self.rows//2):\n",
    "                price_of_ticket = 10\n",
    "            else:\n",
    "                price_of_ticket = 8\n",
    "            print('price_of_ticket: ', '$'+str(price_of_ticket))\n",
    "            print('=====================================================================================================''\\n'\n",
    "                  'Press Y/y for YES to proceed your booking further or else the input other than Y will discard ur booking''\\n'\n",
    "                 '=======================================================================================================''\\n')\n",
    "            proceed = input('press Y/y')\n",
    "            if (proceed.upper()=='Y'):\n",
    "                self.row.append(row)\n",
    "                self.column.append(column)\n",
    "                User_detail['Name'] = input('Enter your Name:')\n",
    "                while User_detail['Name'].isalpha()==False:\n",
    "                    print(\"'Enter valid name', only aplhabets are allowed:\")\n",
    "                    User_detail['Name'] = input('Enter your Name: ')  \n",
    "                    continue\n",
    "                print(\"=====**Note:Enter 'M/m' for 'Male'or 'F/f' for 'Female' or 'O/o' for 'Other'=========\")\n",
    "                print()\n",
    "                Gender = input(\"Enter ur Gender:\")\n",
    "                while Gender not in ('mMfFoO'):\n",
    "                    print(\"give valid input as per Note\")\n",
    "                    Gender = input(\"Enter ur Gender:\")\n",
    "                    continue\n",
    "                if(Gender.upper() == \"M\"):\n",
    "                    self.gender = \"Male\"\n",
    "                if(Gender.upper()==\"F\"):\n",
    "                    self.gender =\"Female\"\n",
    "                if(Gender.upper()==\"O\"):\n",
    "                    self.gender=\"Other\"\n",
    "                User_detail['Gender'] = self.gender\n",
    "                User_detail['Age'] = input('Enter Age:')\n",
    "                while User_detail['Age'].isdigit()==False or len(User_detail['Age'])>2:\n",
    "                    print('give valid input')\n",
    "                    User_detail['Age'] = input('Enter Age:')\n",
    "                    continue\n",
    "                User_detail['Ticket_price'] = price_of_ticket\n",
    "                User_detail['Phone_No'] = input('Enter Phone number: ')\n",
    "                while User_detail['Phone_No'].isdigit()==False or len( User_detail['Phone_No'])!=10:\n",
    "                        print('Enter valid Phone number')\n",
    "                        User_detail['Phone_No'] = input('Enter Phone number: ')\n",
    "                self.Booked += 1\n",
    "                self.Current_income += price_of_ticket\n",
    "                self.Booked_details[row-1][column-1] = User_detail\n",
    "                print('\\n''Your ticket has been Booked Successfully' '\\n' \n",
    "                     \" ================================='THANK YOU'=======================================================\"'\\n')\n",
    "            else:\n",
    "                print('\\n' \"*****Your Booking cant be proceeded any more\"'******' '\\n')\n",
    "        else:\n",
    "            print('\\n''This seat has been booked already please select the other seat''\\n')\n",
    "    def statistics(self):\n",
    "        print(\"==========================================\")\n",
    "        print(\"           Statistics:\")\n",
    "        print('===========================================')\n",
    "        print('Number of purchased tickets:',self.Booked)\n",
    "        self.percentage = (self.Booked/(self.rows*self.seats))*100\n",
    "        print(\"Percentage:\",str(\"{:.2f}\".format(self.percentage))+'%')\n",
    "        print('Current income:','$'+str(self.Current_income))\n",
    "        self.Total_income=0                                               #Overall expected income.\n",
    "        a=self.rows*self.seats\n",
    "        [b,c]=[(a-(a//2)),(a//2)]\n",
    "        if a<= 60:\n",
    "            self.Total_income=(a*10)\n",
    "        else:  \n",
    "            self.Total_income=(c*10+b*8)    \n",
    "        print('Total income:','$'+str(self.Total_income))\n",
    "        print('=============================================')\n",
    "    def User_info(self):\n",
    "        booked_row = int(input('Enter Row number - \\n'))\n",
    "        booked_column= int(input('Enter Column number - \\n'))\n",
    "        if booked_row in range(1, self.rows+1) and booked_column in range(1, self.seats+1):\n",
    "            if (booked_row,booked_column) in list(zip(self.row,self.column)):\n",
    "                User = self.Booked_details[ booked_row  - 1][ booked_column - 1]\n",
    "                print(\"============================================\")\n",
    "                print(\"         User info:\")\n",
    "                print('=============================================')\n",
    "                print('Name:',User['Name'].capitalize())\n",
    "                print('Gender:',User['Gender'])\n",
    "                print('Age:',User['Age'])\n",
    "                print('Ticket Price:','$'+str(User['Ticket_price']))\n",
    "                print('Phone No:',User['Phone_No'])\n",
    "                print('===============================================')\n",
    "            else:\n",
    "                print()\n",
    "                print('The seat is not yet Booked','Kindly enter the details of Booked seat')\n",
    "\n",
    "x=Movie()\n",
    "x.Main_menu()"
   ]
  },
  {
   "cell_type": "code",
   "execution_count": null,
   "id": "atmospheric-cricket",
   "metadata": {},
   "outputs": [],
   "source": []
  },
  {
   "cell_type": "code",
   "execution_count": null,
   "id": "tribal-cloud",
   "metadata": {},
   "outputs": [],
   "source": []
  }
 ],
 "metadata": {
  "environment": {
   "name": "common-cpu.m65",
   "type": "gcloud",
   "uri": "gcr.io/deeplearning-platform-release/base-cpu:m65"
  },
  "kernelspec": {
   "display_name": "Python 3",
   "language": "python",
   "name": "python3"
  },
  "language_info": {
   "codemirror_mode": {
    "name": "ipython",
    "version": 3
   },
   "file_extension": ".py",
   "mimetype": "text/x-python",
   "name": "python",
   "nbconvert_exporter": "python",
   "pygments_lexer": "ipython3",
   "version": "3.7.10"
  }
 },
 "nbformat": 4,
 "nbformat_minor": 5
}
